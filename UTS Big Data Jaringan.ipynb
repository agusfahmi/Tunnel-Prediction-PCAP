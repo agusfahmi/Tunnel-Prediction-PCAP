{
 "cells": [
  {
   "cell_type": "code",
   "execution_count": 1,
   "id": "f917aef7-d50d-45ea-9687-6892257885c5",
   "metadata": {},
   "outputs": [],
   "source": [
    "import pandas as pd\n",
    "import matplotlib.pyplot as plt\n",
    "from sklearn.preprocessing import LabelEncoder\n",
    "from sklearn.model_selection import train_test_split\n",
    "from sklearn.ensemble import RandomForestClassifier\n",
    "from sklearn.preprocessing import MinMaxScaler\n",
    "from tensorflow import keras\n"
   ]
  },
  {
   "cell_type": "code",
   "execution_count": 2,
   "id": "fc6ea0ff-4ef1-43cd-aaf0-a3250c007b4a",
   "metadata": {},
   "outputs": [
    {
     "data": {
      "text/html": [
       "<div>\n",
       "<style scoped>\n",
       "    .dataframe tbody tr th:only-of-type {\n",
       "        vertical-align: middle;\n",
       "    }\n",
       "\n",
       "    .dataframe tbody tr th {\n",
       "        vertical-align: top;\n",
       "    }\n",
       "\n",
       "    .dataframe thead th {\n",
       "        text-align: right;\n",
       "    }\n",
       "</style>\n",
       "<table border=\"1\" class=\"dataframe\">\n",
       "  <thead>\n",
       "    <tr style=\"text-align: right;\">\n",
       "      <th></th>\n",
       "      <th>No.</th>\n",
       "      <th>Time</th>\n",
       "      <th>Source</th>\n",
       "      <th>Destination</th>\n",
       "      <th>Protocol</th>\n",
       "      <th>Length</th>\n",
       "      <th>Info</th>\n",
       "    </tr>\n",
       "  </thead>\n",
       "  <tbody>\n",
       "    <tr>\n",
       "      <th>0</th>\n",
       "      <td>1</td>\n",
       "      <td>0.000000</td>\n",
       "      <td>10.10.1.198</td>\n",
       "      <td>172.217.194.95</td>\n",
       "      <td>TLSv1.2</td>\n",
       "      <td>64468</td>\n",
       "      <td>Ignored Unknown Record</td>\n",
       "    </tr>\n",
       "    <tr>\n",
       "      <th>1</th>\n",
       "      <td>2</td>\n",
       "      <td>0.000588</td>\n",
       "      <td>10.10.1.198</td>\n",
       "      <td>172.217.194.95</td>\n",
       "      <td>TLSv1.2</td>\n",
       "      <td>64468</td>\n",
       "      <td>Ignored Unknown Record</td>\n",
       "    </tr>\n",
       "    <tr>\n",
       "      <th>2</th>\n",
       "      <td>3</td>\n",
       "      <td>0.000745</td>\n",
       "      <td>10.10.1.198</td>\n",
       "      <td>172.217.194.95</td>\n",
       "      <td>TLSv1.2</td>\n",
       "      <td>64468</td>\n",
       "      <td>Ignored Unknown Record</td>\n",
       "    </tr>\n",
       "    <tr>\n",
       "      <th>3</th>\n",
       "      <td>4</td>\n",
       "      <td>0.001275</td>\n",
       "      <td>10.10.1.198</td>\n",
       "      <td>172.217.194.95</td>\n",
       "      <td>TLSv1.2</td>\n",
       "      <td>64468</td>\n",
       "      <td>Ignored Unknown Record</td>\n",
       "    </tr>\n",
       "    <tr>\n",
       "      <th>4</th>\n",
       "      <td>5</td>\n",
       "      <td>0.002002</td>\n",
       "      <td>10.10.1.198</td>\n",
       "      <td>172.217.194.95</td>\n",
       "      <td>TLSv1.2</td>\n",
       "      <td>64468</td>\n",
       "      <td>Ignored Unknown Record</td>\n",
       "    </tr>\n",
       "    <tr>\n",
       "      <th>...</th>\n",
       "      <td>...</td>\n",
       "      <td>...</td>\n",
       "      <td>...</td>\n",
       "      <td>...</td>\n",
       "      <td>...</td>\n",
       "      <td>...</td>\n",
       "      <td>...</td>\n",
       "    </tr>\n",
       "    <tr>\n",
       "      <th>236552</th>\n",
       "      <td>236553</td>\n",
       "      <td>37.646.274</td>\n",
       "      <td>10.10.1.198</td>\n",
       "      <td>172.217.194.95</td>\n",
       "      <td>TLSv1.2</td>\n",
       "      <td>64468</td>\n",
       "      <td>Application Data, Application Data, Applicatio...</td>\n",
       "    </tr>\n",
       "    <tr>\n",
       "      <th>236553</th>\n",
       "      <td>236554</td>\n",
       "      <td>37.646.324</td>\n",
       "      <td>172.217.194.95</td>\n",
       "      <td>10.10.1.198</td>\n",
       "      <td>TCP</td>\n",
       "      <td>96</td>\n",
       "      <td>[TCP Dup ACK 236551#2] 443  &gt;  59620 [ACK] Seq...</td>\n",
       "    </tr>\n",
       "    <tr>\n",
       "      <th>236554</th>\n",
       "      <td>236555</td>\n",
       "      <td>37.646.324</td>\n",
       "      <td>172.217.194.95</td>\n",
       "      <td>10.10.1.198</td>\n",
       "      <td>TCP</td>\n",
       "      <td>96</td>\n",
       "      <td>[TCP Dup ACK 236551#3] 443  &gt;  59620 [ACK] Seq...</td>\n",
       "    </tr>\n",
       "    <tr>\n",
       "      <th>236555</th>\n",
       "      <td>236556</td>\n",
       "      <td>37.646.350</td>\n",
       "      <td>172.217.194.95</td>\n",
       "      <td>10.10.1.198</td>\n",
       "      <td>TCP</td>\n",
       "      <td>96</td>\n",
       "      <td>443  &gt;  59620 [ACK] Seq=25612 Ack=441356129 Wi...</td>\n",
       "    </tr>\n",
       "    <tr>\n",
       "      <th>236556</th>\n",
       "      <td>236557</td>\n",
       "      <td>37.646.350</td>\n",
       "      <td>172.217.194.95</td>\n",
       "      <td>10.10.1.198</td>\n",
       "      <td>TCP</td>\n",
       "      <td>96</td>\n",
       "      <td>[TCP Dup ACK 236556#1] 443  &gt;  59620 [ACK] Seq...</td>\n",
       "    </tr>\n",
       "  </tbody>\n",
       "</table>\n",
       "<p>236557 rows × 7 columns</p>\n",
       "</div>"
      ],
      "text/plain": [
       "           No.        Time          Source     Destination Protocol  Length   \n",
       "0            1    0.000000     10.10.1.198  172.217.194.95  TLSv1.2   64468  \\\n",
       "1            2    0.000588     10.10.1.198  172.217.194.95  TLSv1.2   64468   \n",
       "2            3    0.000745     10.10.1.198  172.217.194.95  TLSv1.2   64468   \n",
       "3            4    0.001275     10.10.1.198  172.217.194.95  TLSv1.2   64468   \n",
       "4            5    0.002002     10.10.1.198  172.217.194.95  TLSv1.2   64468   \n",
       "...        ...         ...             ...             ...      ...     ...   \n",
       "236552  236553  37.646.274     10.10.1.198  172.217.194.95  TLSv1.2   64468   \n",
       "236553  236554  37.646.324  172.217.194.95     10.10.1.198      TCP      96   \n",
       "236554  236555  37.646.324  172.217.194.95     10.10.1.198      TCP      96   \n",
       "236555  236556  37.646.350  172.217.194.95     10.10.1.198      TCP      96   \n",
       "236556  236557  37.646.350  172.217.194.95     10.10.1.198      TCP      96   \n",
       "\n",
       "                                                     Info  \n",
       "0                                  Ignored Unknown Record  \n",
       "1                                  Ignored Unknown Record  \n",
       "2                                  Ignored Unknown Record  \n",
       "3                                  Ignored Unknown Record  \n",
       "4                                  Ignored Unknown Record  \n",
       "...                                                   ...  \n",
       "236552  Application Data, Application Data, Applicatio...  \n",
       "236553  [TCP Dup ACK 236551#2] 443  >  59620 [ACK] Seq...  \n",
       "236554  [TCP Dup ACK 236551#3] 443  >  59620 [ACK] Seq...  \n",
       "236555  443  >  59620 [ACK] Seq=25612 Ack=441356129 Wi...  \n",
       "236556  [TCP Dup ACK 236556#1] 443  >  59620 [ACK] Seq...  \n",
       "\n",
       "[236557 rows x 7 columns]"
      ]
     },
     "execution_count": 2,
     "metadata": {},
     "output_type": "execute_result"
    }
   ],
   "source": [
    "df = pd.read_csv('jaringan.csv', delimiter=\";\")\n",
    "df"
   ]
  },
  {
   "cell_type": "code",
   "execution_count": 3,
   "id": "8d83dba6-b805-403e-8a3d-f966974bf7e4",
   "metadata": {},
   "outputs": [
    {
     "data": {
      "text/html": [
       "<div>\n",
       "<style scoped>\n",
       "    .dataframe tbody tr th:only-of-type {\n",
       "        vertical-align: middle;\n",
       "    }\n",
       "\n",
       "    .dataframe tbody tr th {\n",
       "        vertical-align: top;\n",
       "    }\n",
       "\n",
       "    .dataframe thead th {\n",
       "        text-align: right;\n",
       "    }\n",
       "</style>\n",
       "<table border=\"1\" class=\"dataframe\">\n",
       "  <thead>\n",
       "    <tr style=\"text-align: right;\">\n",
       "      <th></th>\n",
       "      <th>No.</th>\n",
       "      <th>Time</th>\n",
       "      <th>Source</th>\n",
       "      <th>Destination</th>\n",
       "      <th>Protocol</th>\n",
       "      <th>Length</th>\n",
       "      <th>Info</th>\n",
       "    </tr>\n",
       "  </thead>\n",
       "  <tbody>\n",
       "    <tr>\n",
       "      <th>0</th>\n",
       "      <td>1</td>\n",
       "      <td>0.000000</td>\n",
       "      <td>10.10.1.198</td>\n",
       "      <td>172.217.194.95</td>\n",
       "      <td>TLSv1.2</td>\n",
       "      <td>64468</td>\n",
       "      <td>Ignored Unknown Record</td>\n",
       "    </tr>\n",
       "    <tr>\n",
       "      <th>1</th>\n",
       "      <td>2</td>\n",
       "      <td>0.000588</td>\n",
       "      <td>10.10.1.198</td>\n",
       "      <td>172.217.194.95</td>\n",
       "      <td>TLSv1.2</td>\n",
       "      <td>64468</td>\n",
       "      <td>Ignored Unknown Record</td>\n",
       "    </tr>\n",
       "    <tr>\n",
       "      <th>2</th>\n",
       "      <td>3</td>\n",
       "      <td>0.000745</td>\n",
       "      <td>10.10.1.198</td>\n",
       "      <td>172.217.194.95</td>\n",
       "      <td>TLSv1.2</td>\n",
       "      <td>64468</td>\n",
       "      <td>Ignored Unknown Record</td>\n",
       "    </tr>\n",
       "    <tr>\n",
       "      <th>3</th>\n",
       "      <td>4</td>\n",
       "      <td>0.001275</td>\n",
       "      <td>10.10.1.198</td>\n",
       "      <td>172.217.194.95</td>\n",
       "      <td>TLSv1.2</td>\n",
       "      <td>64468</td>\n",
       "      <td>Ignored Unknown Record</td>\n",
       "    </tr>\n",
       "    <tr>\n",
       "      <th>4</th>\n",
       "      <td>5</td>\n",
       "      <td>0.002002</td>\n",
       "      <td>10.10.1.198</td>\n",
       "      <td>172.217.194.95</td>\n",
       "      <td>TLSv1.2</td>\n",
       "      <td>64468</td>\n",
       "      <td>Ignored Unknown Record</td>\n",
       "    </tr>\n",
       "  </tbody>\n",
       "</table>\n",
       "</div>"
      ],
      "text/plain": [
       "   No.      Time       Source     Destination Protocol  Length   \n",
       "0    1  0.000000  10.10.1.198  172.217.194.95  TLSv1.2   64468  \\\n",
       "1    2  0.000588  10.10.1.198  172.217.194.95  TLSv1.2   64468   \n",
       "2    3  0.000745  10.10.1.198  172.217.194.95  TLSv1.2   64468   \n",
       "3    4  0.001275  10.10.1.198  172.217.194.95  TLSv1.2   64468   \n",
       "4    5  0.002002  10.10.1.198  172.217.194.95  TLSv1.2   64468   \n",
       "\n",
       "                     Info  \n",
       "0  Ignored Unknown Record  \n",
       "1  Ignored Unknown Record  \n",
       "2  Ignored Unknown Record  \n",
       "3  Ignored Unknown Record  \n",
       "4  Ignored Unknown Record  "
      ]
     },
     "execution_count": 3,
     "metadata": {},
     "output_type": "execute_result"
    }
   ],
   "source": [
    "df.head()"
   ]
  },
  {
   "cell_type": "code",
   "execution_count": 4,
   "id": "ec62c222-0f98-4492-9ab5-378d729187d3",
   "metadata": {},
   "outputs": [
    {
     "data": {
      "text/html": [
       "<div>\n",
       "<style scoped>\n",
       "    .dataframe tbody tr th:only-of-type {\n",
       "        vertical-align: middle;\n",
       "    }\n",
       "\n",
       "    .dataframe tbody tr th {\n",
       "        vertical-align: top;\n",
       "    }\n",
       "\n",
       "    .dataframe thead th {\n",
       "        text-align: right;\n",
       "    }\n",
       "</style>\n",
       "<table border=\"1\" class=\"dataframe\">\n",
       "  <thead>\n",
       "    <tr style=\"text-align: right;\">\n",
       "      <th></th>\n",
       "      <th>No.</th>\n",
       "      <th>Time</th>\n",
       "      <th>Source</th>\n",
       "      <th>Destination</th>\n",
       "      <th>Protocol</th>\n",
       "      <th>Length</th>\n",
       "      <th>Info</th>\n",
       "    </tr>\n",
       "  </thead>\n",
       "  <tbody>\n",
       "    <tr>\n",
       "      <th>236552</th>\n",
       "      <td>236553</td>\n",
       "      <td>37.646.274</td>\n",
       "      <td>10.10.1.198</td>\n",
       "      <td>172.217.194.95</td>\n",
       "      <td>TLSv1.2</td>\n",
       "      <td>64468</td>\n",
       "      <td>Application Data, Application Data, Applicatio...</td>\n",
       "    </tr>\n",
       "    <tr>\n",
       "      <th>236553</th>\n",
       "      <td>236554</td>\n",
       "      <td>37.646.324</td>\n",
       "      <td>172.217.194.95</td>\n",
       "      <td>10.10.1.198</td>\n",
       "      <td>TCP</td>\n",
       "      <td>96</td>\n",
       "      <td>[TCP Dup ACK 236551#2] 443  &gt;  59620 [ACK] Seq...</td>\n",
       "    </tr>\n",
       "    <tr>\n",
       "      <th>236554</th>\n",
       "      <td>236555</td>\n",
       "      <td>37.646.324</td>\n",
       "      <td>172.217.194.95</td>\n",
       "      <td>10.10.1.198</td>\n",
       "      <td>TCP</td>\n",
       "      <td>96</td>\n",
       "      <td>[TCP Dup ACK 236551#3] 443  &gt;  59620 [ACK] Seq...</td>\n",
       "    </tr>\n",
       "    <tr>\n",
       "      <th>236555</th>\n",
       "      <td>236556</td>\n",
       "      <td>37.646.350</td>\n",
       "      <td>172.217.194.95</td>\n",
       "      <td>10.10.1.198</td>\n",
       "      <td>TCP</td>\n",
       "      <td>96</td>\n",
       "      <td>443  &gt;  59620 [ACK] Seq=25612 Ack=441356129 Wi...</td>\n",
       "    </tr>\n",
       "    <tr>\n",
       "      <th>236556</th>\n",
       "      <td>236557</td>\n",
       "      <td>37.646.350</td>\n",
       "      <td>172.217.194.95</td>\n",
       "      <td>10.10.1.198</td>\n",
       "      <td>TCP</td>\n",
       "      <td>96</td>\n",
       "      <td>[TCP Dup ACK 236556#1] 443  &gt;  59620 [ACK] Seq...</td>\n",
       "    </tr>\n",
       "  </tbody>\n",
       "</table>\n",
       "</div>"
      ],
      "text/plain": [
       "           No.        Time          Source     Destination Protocol  Length   \n",
       "236552  236553  37.646.274     10.10.1.198  172.217.194.95  TLSv1.2   64468  \\\n",
       "236553  236554  37.646.324  172.217.194.95     10.10.1.198      TCP      96   \n",
       "236554  236555  37.646.324  172.217.194.95     10.10.1.198      TCP      96   \n",
       "236555  236556  37.646.350  172.217.194.95     10.10.1.198      TCP      96   \n",
       "236556  236557  37.646.350  172.217.194.95     10.10.1.198      TCP      96   \n",
       "\n",
       "                                                     Info  \n",
       "236552  Application Data, Application Data, Applicatio...  \n",
       "236553  [TCP Dup ACK 236551#2] 443  >  59620 [ACK] Seq...  \n",
       "236554  [TCP Dup ACK 236551#3] 443  >  59620 [ACK] Seq...  \n",
       "236555  443  >  59620 [ACK] Seq=25612 Ack=441356129 Wi...  \n",
       "236556  [TCP Dup ACK 236556#1] 443  >  59620 [ACK] Seq...  "
      ]
     },
     "execution_count": 4,
     "metadata": {},
     "output_type": "execute_result"
    }
   ],
   "source": [
    "df.tail()"
   ]
  },
  {
   "cell_type": "code",
   "execution_count": 5,
   "id": "9fa121b4-40b2-4114-bbb6-4f2f549a1504",
   "metadata": {},
   "outputs": [
    {
     "name": "stdout",
     "output_type": "stream",
     "text": [
      "No.              0\n",
      "Time             0\n",
      "Source           0\n",
      "Destination    253\n",
      "Protocol         0\n",
      "Length           0\n",
      "Info             0\n",
      "dtype: int64\n"
     ]
    }
   ],
   "source": [
    "print(df.isnull().sum())"
   ]
  },
  {
   "cell_type": "code",
   "execution_count": 6,
   "id": "f34d5d40-ac8c-4e3c-b297-a5adb4dc2b12",
   "metadata": {},
   "outputs": [],
   "source": [
    "df = df.dropna()"
   ]
  },
  {
   "cell_type": "code",
   "execution_count": 7,
   "id": "082a89b5-80c8-4d6d-92cb-d5c352bc4d72",
   "metadata": {},
   "outputs": [
    {
     "data": {
      "text/plain": [
       "0"
      ]
     },
     "execution_count": 7,
     "metadata": {},
     "output_type": "execute_result"
    }
   ],
   "source": [
    "df.duplicated().sum()"
   ]
  },
  {
   "cell_type": "code",
   "execution_count": 8,
   "id": "03e00631-9a73-47b9-a829-6b57b35eefc3",
   "metadata": {},
   "outputs": [],
   "source": [
    "df.reset_index(drop=True, inplace=True)\n"
   ]
  },
  {
   "cell_type": "code",
   "execution_count": 9,
   "id": "4087a0d2-e018-4da9-a020-c3cfbf909ef1",
   "metadata": {},
   "outputs": [
    {
     "data": {
      "text/html": [
       "<div>\n",
       "<style scoped>\n",
       "    .dataframe tbody tr th:only-of-type {\n",
       "        vertical-align: middle;\n",
       "    }\n",
       "\n",
       "    .dataframe tbody tr th {\n",
       "        vertical-align: top;\n",
       "    }\n",
       "\n",
       "    .dataframe thead th {\n",
       "        text-align: right;\n",
       "    }\n",
       "</style>\n",
       "<table border=\"1\" class=\"dataframe\">\n",
       "  <thead>\n",
       "    <tr style=\"text-align: right;\">\n",
       "      <th></th>\n",
       "      <th>No.</th>\n",
       "      <th>Time</th>\n",
       "      <th>Source</th>\n",
       "      <th>Destination</th>\n",
       "      <th>Protocol</th>\n",
       "      <th>Length</th>\n",
       "      <th>Info</th>\n",
       "    </tr>\n",
       "  </thead>\n",
       "  <tbody>\n",
       "    <tr>\n",
       "      <th>0</th>\n",
       "      <td>1</td>\n",
       "      <td>0.000000</td>\n",
       "      <td>10.10.1.198</td>\n",
       "      <td>172.217.194.95</td>\n",
       "      <td>TLSv1.2</td>\n",
       "      <td>64468</td>\n",
       "      <td>Ignored Unknown Record</td>\n",
       "    </tr>\n",
       "    <tr>\n",
       "      <th>1</th>\n",
       "      <td>2</td>\n",
       "      <td>0.000588</td>\n",
       "      <td>10.10.1.198</td>\n",
       "      <td>172.217.194.95</td>\n",
       "      <td>TLSv1.2</td>\n",
       "      <td>64468</td>\n",
       "      <td>Ignored Unknown Record</td>\n",
       "    </tr>\n",
       "    <tr>\n",
       "      <th>2</th>\n",
       "      <td>3</td>\n",
       "      <td>0.000745</td>\n",
       "      <td>10.10.1.198</td>\n",
       "      <td>172.217.194.95</td>\n",
       "      <td>TLSv1.2</td>\n",
       "      <td>64468</td>\n",
       "      <td>Ignored Unknown Record</td>\n",
       "    </tr>\n",
       "    <tr>\n",
       "      <th>3</th>\n",
       "      <td>4</td>\n",
       "      <td>0.001275</td>\n",
       "      <td>10.10.1.198</td>\n",
       "      <td>172.217.194.95</td>\n",
       "      <td>TLSv1.2</td>\n",
       "      <td>64468</td>\n",
       "      <td>Ignored Unknown Record</td>\n",
       "    </tr>\n",
       "    <tr>\n",
       "      <th>4</th>\n",
       "      <td>5</td>\n",
       "      <td>0.002002</td>\n",
       "      <td>10.10.1.198</td>\n",
       "      <td>172.217.194.95</td>\n",
       "      <td>TLSv1.2</td>\n",
       "      <td>64468</td>\n",
       "      <td>Ignored Unknown Record</td>\n",
       "    </tr>\n",
       "    <tr>\n",
       "      <th>...</th>\n",
       "      <td>...</td>\n",
       "      <td>...</td>\n",
       "      <td>...</td>\n",
       "      <td>...</td>\n",
       "      <td>...</td>\n",
       "      <td>...</td>\n",
       "      <td>...</td>\n",
       "    </tr>\n",
       "    <tr>\n",
       "      <th>236299</th>\n",
       "      <td>236553</td>\n",
       "      <td>37.646.274</td>\n",
       "      <td>10.10.1.198</td>\n",
       "      <td>172.217.194.95</td>\n",
       "      <td>TLSv1.2</td>\n",
       "      <td>64468</td>\n",
       "      <td>Application Data, Application Data, Applicatio...</td>\n",
       "    </tr>\n",
       "    <tr>\n",
       "      <th>236300</th>\n",
       "      <td>236554</td>\n",
       "      <td>37.646.324</td>\n",
       "      <td>172.217.194.95</td>\n",
       "      <td>10.10.1.198</td>\n",
       "      <td>TCP</td>\n",
       "      <td>96</td>\n",
       "      <td>[TCP Dup ACK 236551#2] 443  &gt;  59620 [ACK] Seq...</td>\n",
       "    </tr>\n",
       "    <tr>\n",
       "      <th>236301</th>\n",
       "      <td>236555</td>\n",
       "      <td>37.646.324</td>\n",
       "      <td>172.217.194.95</td>\n",
       "      <td>10.10.1.198</td>\n",
       "      <td>TCP</td>\n",
       "      <td>96</td>\n",
       "      <td>[TCP Dup ACK 236551#3] 443  &gt;  59620 [ACK] Seq...</td>\n",
       "    </tr>\n",
       "    <tr>\n",
       "      <th>236302</th>\n",
       "      <td>236556</td>\n",
       "      <td>37.646.350</td>\n",
       "      <td>172.217.194.95</td>\n",
       "      <td>10.10.1.198</td>\n",
       "      <td>TCP</td>\n",
       "      <td>96</td>\n",
       "      <td>443  &gt;  59620 [ACK] Seq=25612 Ack=441356129 Wi...</td>\n",
       "    </tr>\n",
       "    <tr>\n",
       "      <th>236303</th>\n",
       "      <td>236557</td>\n",
       "      <td>37.646.350</td>\n",
       "      <td>172.217.194.95</td>\n",
       "      <td>10.10.1.198</td>\n",
       "      <td>TCP</td>\n",
       "      <td>96</td>\n",
       "      <td>[TCP Dup ACK 236556#1] 443  &gt;  59620 [ACK] Seq...</td>\n",
       "    </tr>\n",
       "  </tbody>\n",
       "</table>\n",
       "<p>236304 rows × 7 columns</p>\n",
       "</div>"
      ],
      "text/plain": [
       "           No.        Time          Source     Destination Protocol  Length   \n",
       "0            1    0.000000     10.10.1.198  172.217.194.95  TLSv1.2   64468  \\\n",
       "1            2    0.000588     10.10.1.198  172.217.194.95  TLSv1.2   64468   \n",
       "2            3    0.000745     10.10.1.198  172.217.194.95  TLSv1.2   64468   \n",
       "3            4    0.001275     10.10.1.198  172.217.194.95  TLSv1.2   64468   \n",
       "4            5    0.002002     10.10.1.198  172.217.194.95  TLSv1.2   64468   \n",
       "...        ...         ...             ...             ...      ...     ...   \n",
       "236299  236553  37.646.274     10.10.1.198  172.217.194.95  TLSv1.2   64468   \n",
       "236300  236554  37.646.324  172.217.194.95     10.10.1.198      TCP      96   \n",
       "236301  236555  37.646.324  172.217.194.95     10.10.1.198      TCP      96   \n",
       "236302  236556  37.646.350  172.217.194.95     10.10.1.198      TCP      96   \n",
       "236303  236557  37.646.350  172.217.194.95     10.10.1.198      TCP      96   \n",
       "\n",
       "                                                     Info  \n",
       "0                                  Ignored Unknown Record  \n",
       "1                                  Ignored Unknown Record  \n",
       "2                                  Ignored Unknown Record  \n",
       "3                                  Ignored Unknown Record  \n",
       "4                                  Ignored Unknown Record  \n",
       "...                                                   ...  \n",
       "236299  Application Data, Application Data, Applicatio...  \n",
       "236300  [TCP Dup ACK 236551#2] 443  >  59620 [ACK] Seq...  \n",
       "236301  [TCP Dup ACK 236551#3] 443  >  59620 [ACK] Seq...  \n",
       "236302  443  >  59620 [ACK] Seq=25612 Ack=441356129 Wi...  \n",
       "236303  [TCP Dup ACK 236556#1] 443  >  59620 [ACK] Seq...  \n",
       "\n",
       "[236304 rows x 7 columns]"
      ]
     },
     "execution_count": 9,
     "metadata": {},
     "output_type": "execute_result"
    }
   ],
   "source": [
    "df"
   ]
  },
  {
   "cell_type": "markdown",
   "id": "3a0606cd-8eff-4d57-b3f1-ff47a1624701",
   "metadata": {},
   "source": [
    "Exploraty Data Analysis"
   ]
  },
  {
   "cell_type": "code",
   "execution_count": 10,
   "id": "06f4d737-ecdd-44e8-b9ef-4d6826fa1eef",
   "metadata": {},
   "outputs": [
    {
     "data": {
      "image/png": "[encoded data removed]",
      "text/plain": [
       "<Figure size 576x360 with 1 Axes>"
      ]
     },
     "metadata": {
      "needs_background": "light"
     },
     "output_type": "display_data"
    }
   ],
   "source": [
    "plt.figure(figsize=(8, 5))\n",
    "plt.hist(df['Length'], bins=10, color='skyblue', edgecolor='black')\n",
    "plt.title('Distribusi Panjang Data')\n",
    "plt.xlabel('Panjang Data')\n",
    "plt.ylabel('Frekuensi')\n",
    "plt.show()"
   ]
  },
  {
   "cell_type": "code",
   "execution_count": 11,
   "id": "676d043e-3cd3-4af8-a110-d55c954ebcda",
   "metadata": {},
   "outputs": [
    {
     "data": {
      "image/png": "[encoded data removed]",
      "text/plain": [
       "<Figure size 576x360 with 1 Axes>"
      ]
     },
     "metadata": {
      "needs_background": "light"
     },
     "output_type": "display_data"
    }
   ],
   "source": [
    "# Visualisasi 2: Distribusi Protocol\n",
    "plt.figure(figsize=(8, 5))\n",
    "protocol_counts = df['Protocol'].value_counts()\n",
    "protocol_counts.plot(kind='bar', color='lightcoral')\n",
    "plt.title('Distribusi Protocol')\n",
    "plt.xlabel('Protocol')\n",
    "plt.ylabel('Frekuensi')\n",
    "plt.xticks(rotation=45)\n",
    "plt.show()\n"
   ]
  },
  {
   "cell_type": "code",
   "execution_count": 12,
   "id": "d6588789-f3d2-443e-b962-ee1fd70fb4eb",
   "metadata": {},
   "outputs": [
    {
     "data": {
      "image/png": "[encoded data removed]",
      "text/plain": [
       "<Figure size 576x432 with 1 Axes>"
      ]
     },
     "metadata": {},
     "output_type": "display_data"
    }
   ],
   "source": [
    "# Visualisasi 4: Network Graph Sumber-Tujuan\n",
    "import networkx as nx\n",
    "G = nx.DiGraph()\n",
    "G.add_edges_from(df[['Source', 'Destination']].itertuples(index=False))\n",
    "plt.figure(figsize=(8, 6))\n",
    "pos = nx.spring_layout(G)\n",
    "nx.draw(G, pos, with_labels=True, node_size=500, node_color='lightblue', font_size=10)\n",
    "plt.title('Network Graph Sumber-Tujuan')\n",
    "plt.show()"
   ]
  },
  {
   "cell_type": "code",
   "execution_count": 13,
   "id": "5c8ed292-c252-4dbe-b817-19769afe98db",
   "metadata": {},
   "outputs": [
    {
     "data": {
      "image/png": "[encoded data removed]",
      "text/plain": [
       "<Figure size 576x576 with 1 Axes>"
      ]
     },
     "metadata": {},
     "output_type": "display_data"
    }
   ],
   "source": [
    "import matplotlib.pyplot as plt\n",
    "# Menghitung frekuensi alamat IP Source\n",
    "source_counts = df['Source'].value_counts()\n",
    "\n",
    "# Menghitung frekuensi alamat IP Destination\n",
    "destination_counts = df['Destination'].value_counts()\n",
    "\n",
    "# Menggabungkan data alamat IP Source dan Destination\n",
    "ip_counts = source_counts.combine(destination_counts, max, fill_value=0)\n",
    "# 'max' digunakan untuk mengambil nilai maksimum dari dua kolom\n",
    "# Menghitung persentase dari frekuensi alamat IP\n",
    "ip_counts_percentage = ip_counts / ip_counts.sum() * 100\n",
    "\n",
    "# Plotting pie chart\n",
    "plt.figure(figsize=(8, 8))\n",
    "ip_counts_percentage.plot(kind='pie', autopct='%1.1f%%', startangle=90)\n",
    "plt.title('Persentase Distribusi Alamat IP (Source dan Destination)')\n",
    "plt.ylabel('')  # Menghapus label sumbu Y\n",
    "plt.show()\n"
   ]
  },
  {
   "cell_type": "code",
   "execution_count": 14,
   "id": "36e97e17-10bd-4724-8ffb-f5d11861604e",
   "metadata": {},
   "outputs": [
    {
     "data": {
      "image/png": "[encoded data removed]",
      "text/plain": [
       "<Figure size 720x432 with 1 Axes>"
      ]
     },
     "metadata": {
      "needs_background": "light"
     },
     "output_type": "display_data"
    }
   ],
   "source": [
    "# Menghitung frekuensi alamat IP Destination\n",
    "destination_counts = df['Destination'].value_counts()\n",
    "\n",
    "# Menampilkan bar chart distribusi alamat IP yang paling sering dikunjungi\n",
    "plt.figure(figsize=(10, 6))\n",
    "destination_counts.plot(kind='bar', color='lightcoral')\n",
    "plt.title('Distribusi Alamat IP yang Paling Sering Dikunjungi')\n",
    "plt.xlabel('Alamat IP')\n",
    "plt.ylabel('Frekuensi')\n",
    "plt.xticks(rotation=45)\n",
    "plt.show()"
   ]
  },
  {
   "cell_type": "markdown",
   "id": "efdc7261-d40b-4dc7-b98b-dff40afd2547",
   "metadata": {},
   "source": [
    "Label Encoding"
   ]
  },
  {
   "cell_type": "code",
   "execution_count": 15,
   "id": "a0531d9b-f457-4339-a675-bd038e5c734f",
   "metadata": {},
   "outputs": [
    {
     "data": {
      "text/html": [
       "<div>\n",
       "<style scoped>\n",
       "    .dataframe tbody tr th:only-of-type {\n",
       "        vertical-align: middle;\n",
       "    }\n",
       "\n",
       "    .dataframe tbody tr th {\n",
       "        vertical-align: top;\n",
       "    }\n",
       "\n",
       "    .dataframe thead th {\n",
       "        text-align: right;\n",
       "    }\n",
       "</style>\n",
       "<table border=\"1\" class=\"dataframe\">\n",
       "  <thead>\n",
       "    <tr style=\"text-align: right;\">\n",
       "      <th></th>\n",
       "      <th>No.</th>\n",
       "      <th>Time</th>\n",
       "      <th>Source</th>\n",
       "      <th>Destination</th>\n",
       "      <th>Protocol</th>\n",
       "      <th>Length</th>\n",
       "      <th>Info</th>\n",
       "    </tr>\n",
       "  </thead>\n",
       "  <tbody>\n",
       "    <tr>\n",
       "      <th>0</th>\n",
       "      <td>0</td>\n",
       "      <td>0</td>\n",
       "      <td>1</td>\n",
       "      <td>7</td>\n",
       "      <td>6</td>\n",
       "      <td>207</td>\n",
       "      <td>64354</td>\n",
       "    </tr>\n",
       "    <tr>\n",
       "      <th>1</th>\n",
       "      <td>1</td>\n",
       "      <td>1</td>\n",
       "      <td>1</td>\n",
       "      <td>7</td>\n",
       "      <td>6</td>\n",
       "      <td>207</td>\n",
       "      <td>64354</td>\n",
       "    </tr>\n",
       "    <tr>\n",
       "      <th>2</th>\n",
       "      <td>2</td>\n",
       "      <td>2</td>\n",
       "      <td>1</td>\n",
       "      <td>7</td>\n",
       "      <td>6</td>\n",
       "      <td>207</td>\n",
       "      <td>64354</td>\n",
       "    </tr>\n",
       "    <tr>\n",
       "      <th>3</th>\n",
       "      <td>3</td>\n",
       "      <td>3</td>\n",
       "      <td>1</td>\n",
       "      <td>7</td>\n",
       "      <td>6</td>\n",
       "      <td>207</td>\n",
       "      <td>64354</td>\n",
       "    </tr>\n",
       "    <tr>\n",
       "      <th>4</th>\n",
       "      <td>4</td>\n",
       "      <td>4</td>\n",
       "      <td>1</td>\n",
       "      <td>7</td>\n",
       "      <td>6</td>\n",
       "      <td>207</td>\n",
       "      <td>64354</td>\n",
       "    </tr>\n",
       "    <tr>\n",
       "      <th>...</th>\n",
       "      <td>...</td>\n",
       "      <td>...</td>\n",
       "      <td>...</td>\n",
       "      <td>...</td>\n",
       "      <td>...</td>\n",
       "      <td>...</td>\n",
       "      <td>...</td>\n",
       "    </tr>\n",
       "    <tr>\n",
       "      <th>236299</th>\n",
       "      <td>236299</td>\n",
       "      <td>62522</td>\n",
       "      <td>1</td>\n",
       "      <td>7</td>\n",
       "      <td>6</td>\n",
       "      <td>207</td>\n",
       "      <td>64343</td>\n",
       "    </tr>\n",
       "    <tr>\n",
       "      <th>236300</th>\n",
       "      <td>236300</td>\n",
       "      <td>62523</td>\n",
       "      <td>7</td>\n",
       "      <td>1</td>\n",
       "      <td>5</td>\n",
       "      <td>10</td>\n",
       "      <td>169506</td>\n",
       "    </tr>\n",
       "    <tr>\n",
       "      <th>236301</th>\n",
       "      <td>236301</td>\n",
       "      <td>62523</td>\n",
       "      <td>7</td>\n",
       "      <td>1</td>\n",
       "      <td>5</td>\n",
       "      <td>10</td>\n",
       "      <td>169507</td>\n",
       "    </tr>\n",
       "    <tr>\n",
       "      <th>236302</th>\n",
       "      <td>236302</td>\n",
       "      <td>62524</td>\n",
       "      <td>7</td>\n",
       "      <td>1</td>\n",
       "      <td>5</td>\n",
       "      <td>10</td>\n",
       "      <td>40884</td>\n",
       "    </tr>\n",
       "    <tr>\n",
       "      <th>236303</th>\n",
       "      <td>236303</td>\n",
       "      <td>62524</td>\n",
       "      <td>7</td>\n",
       "      <td>1</td>\n",
       "      <td>5</td>\n",
       "      <td>10</td>\n",
       "      <td>169508</td>\n",
       "    </tr>\n",
       "  </tbody>\n",
       "</table>\n",
       "<p>236304 rows × 7 columns</p>\n",
       "</div>"
      ],
      "text/plain": [
       "           No.   Time  Source  Destination  Protocol  Length    Info\n",
       "0            0      0       1            7         6     207   64354\n",
       "1            1      1       1            7         6     207   64354\n",
       "2            2      2       1            7         6     207   64354\n",
       "3            3      3       1            7         6     207   64354\n",
       "4            4      4       1            7         6     207   64354\n",
       "...        ...    ...     ...          ...       ...     ...     ...\n",
       "236299  236299  62522       1            7         6     207   64343\n",
       "236300  236300  62523       7            1         5      10  169506\n",
       "236301  236301  62523       7            1         5      10  169507\n",
       "236302  236302  62524       7            1         5      10   40884\n",
       "236303  236303  62524       7            1         5      10  169508\n",
       "\n",
       "[236304 rows x 7 columns]"
      ]
     },
     "execution_count": 15,
     "metadata": {},
     "output_type": "execute_result"
    }
   ],
   "source": [
    "df = df.apply(LabelEncoder().fit_transform)\n",
    "df"
   ]
  },
  {
   "cell_type": "code",
   "execution_count": null,
   "id": "6e26a17b-a056-4ff3-9b78-ff575a087ce7",
   "metadata": {},
   "outputs": [],
   "source": []
  },
  {
   "cell_type": "code",
   "execution_count": 16,
   "id": "29636ef6-bd92-4ba7-8835-94bf251b4845",
   "metadata": {},
   "outputs": [],
   "source": [
    "X=df.drop('Protocol',axis=1)\n",
    "y=df['Protocol']"
   ]
  },
  {
   "cell_type": "code",
   "execution_count": 17,
   "id": "d80206b4-732a-45ca-992e-a126bb798cd2",
   "metadata": {},
   "outputs": [],
   "source": [
    "X_train, X_test, y_train, y_test = train_test_split(X, y, test_size=0.2, random_state=42)"
   ]
  },
  {
   "cell_type": "code",
   "execution_count": 18,
   "id": "65bb0bbe-4ca2-4db5-ab07-b81fcbd21cba",
   "metadata": {},
   "outputs": [],
   "source": [
    "model = RandomForestClassifier(n_estimators=100,random_state=42)"
   ]
  },
  {
   "cell_type": "code",
   "execution_count": 19,
   "id": "a20de81f-8c7f-4e6d-b6bc-9a448c2c403e",
   "metadata": {},
   "outputs": [
    {
     "data": {
      "text/html": [
       "<style>#sk-container-id-1 {color: black;background-color: white;}#sk-container-id-1 pre{padding: 0;}#sk-container-id-1 div.sk-toggleable {background-color: white;}#sk-container-id-1 label.sk-toggleable__label {cursor: pointer;display: block;width: 100%;margin-bottom: 0;padding: 0.3em;box-sizing: border-box;text-align: center;}#sk-container-id-1 label.sk-toggleable__label-arrow:before {content: \"▸\";float: left;margin-right: 0.25em;color: #696969;}#sk-container-id-1 label.sk-toggleable__label-arrow:hover:before {color: black;}#sk-container-id-1 div.sk-estimator:hover label.sk-toggleable__label-arrow:before {color: black;}#sk-container-id-1 div.sk-toggleable__content {max-height: 0;max-width: 0;overflow: hidden;text-align: left;background-color: #f0f8ff;}#sk-container-id-1 div.sk-toggleable__content pre {margin: 0.2em;color: black;border-radius: 0.25em;background-color: #f0f8ff;}#sk-container-id-1 input.sk-toggleable__control:checked~div.sk-toggleable__content {max-height: 200px;max-width: 100%;overflow: auto;}#sk-container-id-1 input.sk-toggleable__control:checked~label.sk-toggleable__label-arrow:before {content: \"▾\";}#sk-container-id-1 div.sk-estimator input.sk-toggleable__control:checked~label.sk-toggleable__label {background-color: #d4ebff;}#sk-container-id-1 div.sk-label input.sk-toggleable__control:checked~label.sk-toggleable__label {background-color: #d4ebff;}#sk-container-id-1 input.sk-hidden--visually {border: 0;clip: rect(1px 1px 1px 1px);clip: rect(1px, 1px, 1px, 1px);height: 1px;margin: -1px;overflow: hidden;padding: 0;position: absolute;width: 1px;}#sk-container-id-1 div.sk-estimator {font-family: monospace;background-color: #f0f8ff;border: 1px dotted black;border-radius: 0.25em;box-sizing: border-box;margin-bottom: 0.5em;}#sk-container-id-1 div.sk-estimator:hover {background-color: #d4ebff;}#sk-container-id-1 div.sk-parallel-item::after {content: \"\";width: 100%;border-bottom: 1px solid gray;flex-grow: 1;}#sk-container-id-1 div.sk-label:hover label.sk-toggleable__label {background-color: #d4ebff;}#sk-container-id-1 div.sk-serial::before {content: \"\";position: absolute;border-left: 1px solid gray;box-sizing: border-box;top: 0;bottom: 0;left: 50%;z-index: 0;}#sk-container-id-1 div.sk-serial {display: flex;flex-direction: column;align-items: center;background-color: white;padding-right: 0.2em;padding-left: 0.2em;position: relative;}#sk-container-id-1 div.sk-item {position: relative;z-index: 1;}#sk-container-id-1 div.sk-parallel {display: flex;align-items: stretch;justify-content: center;background-color: white;position: relative;}#sk-container-id-1 div.sk-item::before, #sk-container-id-1 div.sk-parallel-item::before {content: \"\";position: absolute;border-left: 1px solid gray;box-sizing: border-box;top: 0;bottom: 0;left: 50%;z-index: -1;}#sk-container-id-1 div.sk-parallel-item {display: flex;flex-direction: column;z-index: 1;position: relative;background-color: white;}#sk-container-id-1 div.sk-parallel-item:first-child::after {align-self: flex-end;width: 50%;}#sk-container-id-1 div.sk-parallel-item:last-child::after {align-self: flex-start;width: 50%;}#sk-container-id-1 div.sk-parallel-item:only-child::after {width: 0;}#sk-container-id-1 div.sk-dashed-wrapped {border: 1px dashed gray;margin: 0 0.4em 0.5em 0.4em;box-sizing: border-box;padding-bottom: 0.4em;background-color: white;}#sk-container-id-1 div.sk-label label {font-family: monospace;font-weight: bold;display: inline-block;line-height: 1.2em;}#sk-container-id-1 div.sk-label-container {text-align: center;}#sk-container-id-1 div.sk-container {/* jupyter's `normalize.less` sets `[hidden] { display: none; }` but bootstrap.min.css set `[hidden] { display: none !important; }` so we also need the `!important` here to be able to override the default hidden behavior on the sphinx rendered scikit-learn.org. See: https://github.com/scikit-learn/scikit-learn/issues/21755 */display: inline-block !important;position: relative;}#sk-container-id-1 div.sk-text-repr-fallback {display: none;}</style><div id=\"sk-container-id-1\" class=\"sk-top-container\"><div class=\"sk-text-repr-fallback\"><pre>RandomForestClassifier(random_state=42)</pre><b>In a Jupyter environment, please rerun this cell to show the HTML representation or trust the notebook. <br />On GitHub, the HTML representation is unable to render, please try loading this page with nbviewer.org.</b></div><div class=\"sk-container\" hidden><div class=\"sk-item\"><div class=\"sk-estimator sk-toggleable\"><input class=\"sk-toggleable__control sk-hidden--visually\" id=\"sk-estimator-id-1\" type=\"checkbox\" checked><label for=\"sk-estimator-id-1\" class=\"sk-toggleable__label sk-toggleable__label-arrow\">RandomForestClassifier</label><div class=\"sk-toggleable__content\"><pre>RandomForestClassifier(random_state=42)</pre></div></div></div></div></div>"
      ],
      "text/plain": [
       "RandomForestClassifier(random_state=42)"
      ]
     },
     "execution_count": 19,
     "metadata": {},
     "output_type": "execute_result"
    }
   ],
   "source": [
    "model.fit(X_train, y_train)"
   ]
  },
  {
   "cell_type": "code",
   "execution_count": 20,
   "id": "e5dbbe82-6754-4020-9569-f68dc61c393b",
   "metadata": {},
   "outputs": [],
   "source": [
    "y_pred = model.predict(X_test)"
   ]
  },
  {
   "cell_type": "code",
   "execution_count": 21,
   "id": "96a89207-ab82-4344-8f44-5ee7643266da",
   "metadata": {},
   "outputs": [
    {
     "name": "stdout",
     "output_type": "stream",
     "text": [
      "Akurasi: 100.00%\n"
     ]
    }
   ],
   "source": [
    "from sklearn.metrics import classification_report, accuracy_score\n",
    "\n",
    "# Evaluasi model dengan menghitung akurasi atau menggunakan metrik evaluasi\n",
    "accuracy = accuracy_score(y_test, y_pred.round())\n",
    "print(\"Akurasi: {:.2f}%\".format(accuracy * 100))\n"
   ]
  },
  {
   "cell_type": "code",
   "execution_count": 22,
   "id": "ee01c99a-11eb-489b-981e-5a061c7684da",
   "metadata": {},
   "outputs": [
    {
     "name": "stdout",
     "output_type": "stream",
     "text": [
      "              precision    recall  f1-score   support\n",
      "\n",
      "           0       1.00      1.00      1.00         1\n",
      "           1       1.00      1.00      1.00        11\n",
      "           2       1.00      1.00      1.00         7\n",
      "           5       1.00      1.00      1.00     45649\n",
      "           6       1.00      1.00      1.00      1590\n",
      "           7       1.00      1.00      1.00         3\n",
      "\n",
      "    accuracy                           1.00     47261\n",
      "   macro avg       1.00      1.00      1.00     47261\n",
      "weighted avg       1.00      1.00      1.00     47261\n",
      "\n"
     ]
    }
   ],
   "source": [
    "classification_report_result = classification_report(y_test, y_pred.round())\n",
    "print(classification_report_result)"
   ]
  },
  {
   "cell_type": "code",
   "execution_count": null,
   "id": "18ee852b-2e6e-421e-a79b-f6efbdbfe431",
   "metadata": {},
   "outputs": [],
   "source": []
  }
 ],
 "metadata": {
  "kernelspec": {
   "display_name": "Python 3 (ipykernel)",
   "language": "python",
   "name": "python3"
  },
  "language_info": {
   "codemirror_mode": {
    "name": "ipython",
    "version": 3
   },
   "file_extension": ".py",
   "mimetype": "text/x-python",
   "name": "python",
   "nbconvert_exporter": "python",
   "pygments_lexer": "ipython3",
   "version": "3.9.2"
  }
 },
 "nbformat": 4,
 "nbformat_minor": 5
}
